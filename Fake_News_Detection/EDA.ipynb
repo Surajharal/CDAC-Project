{
 "cells": [
  {
   "cell_type": "code",
   "execution_count": 1,
   "id": "083eb12e-d77e-4a4d-9ddd-022cda957533",
   "metadata": {},
   "outputs": [],
   "source": [
    "import numpy as np\n",
    "import pandas as pd"
   ]
  },
  {
   "cell_type": "code",
   "execution_count": 2,
   "id": "a907aaea-0eda-45a8-9391-f6d2fcae8203",
   "metadata": {},
   "outputs": [
    {
     "data": {
      "text/html": [
       "<div>\n",
       "<style scoped>\n",
       "    .dataframe tbody tr th:only-of-type {\n",
       "        vertical-align: middle;\n",
       "    }\n",
       "\n",
       "    .dataframe tbody tr th {\n",
       "        vertical-align: top;\n",
       "    }\n",
       "\n",
       "    .dataframe thead th {\n",
       "        text-align: right;\n",
       "    }\n",
       "</style>\n",
       "<table border=\"1\" class=\"dataframe\">\n",
       "  <thead>\n",
       "    <tr style=\"text-align: right;\">\n",
       "      <th></th>\n",
       "      <th>title</th>\n",
       "      <th>text</th>\n",
       "      <th>label</th>\n",
       "    </tr>\n",
       "  </thead>\n",
       "  <tbody>\n",
       "    <tr>\n",
       "      <th>0</th>\n",
       "      <td>LAW ENFORCEMENT ON HIGH ALERT Following Threat...</td>\n",
       "      <td>No comment is expected from Barack Obama Membe...</td>\n",
       "      <td>1</td>\n",
       "    </tr>\n",
       "    <tr>\n",
       "      <th>1</th>\n",
       "      <td>NaN</td>\n",
       "      <td>Did they post their votes for Hillary already?</td>\n",
       "      <td>1</td>\n",
       "    </tr>\n",
       "    <tr>\n",
       "      <th>2</th>\n",
       "      <td>UNBELIEVABLE! OBAMA’S ATTORNEY GENERAL SAYS MO...</td>\n",
       "      <td>Now, most of the demonstrators gathered last ...</td>\n",
       "      <td>1</td>\n",
       "    </tr>\n",
       "    <tr>\n",
       "      <th>3</th>\n",
       "      <td>Bobby Jindal, raised Hindu, uses story of Chri...</td>\n",
       "      <td>A dozen politically active pastors came here f...</td>\n",
       "      <td>0</td>\n",
       "    </tr>\n",
       "    <tr>\n",
       "      <th>4</th>\n",
       "      <td>SATAN 2: Russia unvelis an image of its terrif...</td>\n",
       "      <td>The RS-28 Sarmat missile, dubbed Satan 2, will...</td>\n",
       "      <td>1</td>\n",
       "    </tr>\n",
       "  </tbody>\n",
       "</table>\n",
       "</div>"
      ],
      "text/plain": [
       "                                               title  \\\n",
       "0  LAW ENFORCEMENT ON HIGH ALERT Following Threat...   \n",
       "1                                                NaN   \n",
       "2  UNBELIEVABLE! OBAMA’S ATTORNEY GENERAL SAYS MO...   \n",
       "3  Bobby Jindal, raised Hindu, uses story of Chri...   \n",
       "4  SATAN 2: Russia unvelis an image of its terrif...   \n",
       "\n",
       "                                                text  label  \n",
       "0  No comment is expected from Barack Obama Membe...      1  \n",
       "1     Did they post their votes for Hillary already?      1  \n",
       "2   Now, most of the demonstrators gathered last ...      1  \n",
       "3  A dozen politically active pastors came here f...      0  \n",
       "4  The RS-28 Sarmat missile, dubbed Satan 2, will...      1  "
      ]
     },
     "execution_count": 2,
     "metadata": {},
     "output_type": "execute_result"
    }
   ],
   "source": [
    "df=pd.read_csv(\"New_Dataframe.csv\")\n",
    "df.head()"
   ]
  },
  {
   "cell_type": "code",
   "execution_count": 3,
   "id": "43b2e698-12f9-4ef1-9845-15a5538e4191",
   "metadata": {},
   "outputs": [],
   "source": [
    "df_minority = df[df['label'] == 0]\n",
    "df_majority =df[df['label']== 1]"
   ]
  },
  {
   "cell_type": "code",
   "execution_count": 4,
   "id": "661fd4c8-3231-4349-a138-ff3c74a58892",
   "metadata": {},
   "outputs": [
    {
     "data": {
      "text/html": [
       "<div>\n",
       "<style scoped>\n",
       "    .dataframe tbody tr th:only-of-type {\n",
       "        vertical-align: middle;\n",
       "    }\n",
       "\n",
       "    .dataframe tbody tr th {\n",
       "        vertical-align: top;\n",
       "    }\n",
       "\n",
       "    .dataframe thead th {\n",
       "        text-align: right;\n",
       "    }\n",
       "</style>\n",
       "<table border=\"1\" class=\"dataframe\">\n",
       "  <thead>\n",
       "    <tr style=\"text-align: right;\">\n",
       "      <th></th>\n",
       "      <th>title</th>\n",
       "      <th>text</th>\n",
       "      <th>label</th>\n",
       "    </tr>\n",
       "  </thead>\n",
       "  <tbody>\n",
       "    <tr>\n",
       "      <th>12847</th>\n",
       "      <td>Turkish court frees opposition journalist on b...</td>\n",
       "      <td>ISTANBUL (Reuters) - A Turkish court freed on ...</td>\n",
       "      <td>0</td>\n",
       "    </tr>\n",
       "    <tr>\n",
       "      <th>44381</th>\n",
       "      <td>Trump builds team of bosses to shake up Washin...</td>\n",
       "      <td>WASHINGTON (Reuters) - With more than 20 nomi...</td>\n",
       "      <td>0</td>\n",
       "    </tr>\n",
       "    <tr>\n",
       "      <th>37183</th>\n",
       "      <td>Twitter Shares Crash Following Quarterly Earni...</td>\n",
       "      <td>Twitter shares crashed on Thursday following t...</td>\n",
       "      <td>0</td>\n",
       "    </tr>\n",
       "    <tr>\n",
       "      <th>47568</th>\n",
       "      <td>Major U.S. Jewish Groups Applaud Trump’s Holoc...</td>\n",
       "      <td>The Algemeiner reports: Leading American Jewis...</td>\n",
       "      <td>0</td>\n",
       "    </tr>\n",
       "    <tr>\n",
       "      <th>50374</th>\n",
       "      <td>GRAPHIC VIDEO Shows White Officer Shooting Una...</td>\n",
       "      <td>North Charleston Police Officer Michael T. Sla...</td>\n",
       "      <td>0</td>\n",
       "    </tr>\n",
       "    <tr>\n",
       "      <th>...</th>\n",
       "      <td>...</td>\n",
       "      <td>...</td>\n",
       "      <td>...</td>\n",
       "    </tr>\n",
       "    <tr>\n",
       "      <th>38048</th>\n",
       "      <td>Iraqi forces complete Kirkuk province takeover...</td>\n",
       "      <td>BAGHDAD/ERBIL, Iraq (Reuters) - Iraqi forces o...</td>\n",
       "      <td>0</td>\n",
       "    </tr>\n",
       "    <tr>\n",
       "      <th>28287</th>\n",
       "      <td>Army Triumphs at Last, Ending Navy’s 14-Game S...</td>\n",
       "      <td>BALTIMORE  —   Tradition at the   game calls f...</td>\n",
       "      <td>0</td>\n",
       "    </tr>\n",
       "    <tr>\n",
       "      <th>32732</th>\n",
       "      <td>Senate race rankings: Dems attack as GOP lays ...</td>\n",
       "      <td>The move would make it easier for the Trump ad...</td>\n",
       "      <td>0</td>\n",
       "    </tr>\n",
       "    <tr>\n",
       "      <th>55399</th>\n",
       "      <td>Jailed Kremlin critic calls on Russians to pro...</td>\n",
       "      <td>MOSCOW (Reuters) - Kremlin critic Alexei Naval...</td>\n",
       "      <td>0</td>\n",
       "    </tr>\n",
       "    <tr>\n",
       "      <th>49476</th>\n",
       "      <td>U.S. hopes easing limits on Cuba will boost re...</td>\n",
       "      <td>WASHINGTON (Reuters) - The United States hopes...</td>\n",
       "      <td>0</td>\n",
       "    </tr>\n",
       "  </tbody>\n",
       "</table>\n",
       "<p>50084 rows × 3 columns</p>\n",
       "</div>"
      ],
      "text/plain": [
       "                                                   title  \\\n",
       "12847  Turkish court frees opposition journalist on b...   \n",
       "44381  Trump builds team of bosses to shake up Washin...   \n",
       "37183  Twitter Shares Crash Following Quarterly Earni...   \n",
       "47568  Major U.S. Jewish Groups Applaud Trump’s Holoc...   \n",
       "50374  GRAPHIC VIDEO Shows White Officer Shooting Una...   \n",
       "...                                                  ...   \n",
       "38048  Iraqi forces complete Kirkuk province takeover...   \n",
       "28287  Army Triumphs at Last, Ending Navy’s 14-Game S...   \n",
       "32732  Senate race rankings: Dems attack as GOP lays ...   \n",
       "55399  Jailed Kremlin critic calls on Russians to pro...   \n",
       "49476  U.S. hopes easing limits on Cuba will boost re...   \n",
       "\n",
       "                                                    text  label  \n",
       "12847  ISTANBUL (Reuters) - A Turkish court freed on ...      0  \n",
       "44381   WASHINGTON (Reuters) - With more than 20 nomi...      0  \n",
       "37183  Twitter shares crashed on Thursday following t...      0  \n",
       "47568  The Algemeiner reports: Leading American Jewis...      0  \n",
       "50374  North Charleston Police Officer Michael T. Sla...      0  \n",
       "...                                                  ...    ...  \n",
       "38048  BAGHDAD/ERBIL, Iraq (Reuters) - Iraqi forces o...      0  \n",
       "28287  BALTIMORE  —   Tradition at the   game calls f...      0  \n",
       "32732  The move would make it easier for the Trump ad...      0  \n",
       "55399  MOSCOW (Reuters) - Kremlin critic Alexei Naval...      0  \n",
       "49476  WASHINGTON (Reuters) - The United States hopes...      0  \n",
       "\n",
       "[50084 rows x 3 columns]"
      ]
     },
     "execution_count": 4,
     "metadata": {},
     "output_type": "execute_result"
    }
   ],
   "source": [
    "from sklearn.utils import resample\n",
    "\n",
    "df_up_sampled = resample(df_minority, n_samples=50084, random_state=123456)\n",
    "df_up_sampled"
   ]
  },
  {
   "cell_type": "code",
   "execution_count": 5,
   "id": "b0cfa4b4-5e80-436a-831a-04c5e498cdfd",
   "metadata": {},
   "outputs": [
    {
     "data": {
      "text/html": [
       "<div>\n",
       "<style scoped>\n",
       "    .dataframe tbody tr th:only-of-type {\n",
       "        vertical-align: middle;\n",
       "    }\n",
       "\n",
       "    .dataframe tbody tr th {\n",
       "        vertical-align: top;\n",
       "    }\n",
       "\n",
       "    .dataframe thead th {\n",
       "        text-align: right;\n",
       "    }\n",
       "</style>\n",
       "<table border=\"1\" class=\"dataframe\">\n",
       "  <thead>\n",
       "    <tr style=\"text-align: right;\">\n",
       "      <th></th>\n",
       "      <th>title</th>\n",
       "      <th>text</th>\n",
       "      <th>label</th>\n",
       "    </tr>\n",
       "  </thead>\n",
       "  <tbody>\n",
       "    <tr>\n",
       "      <th>0</th>\n",
       "      <td>LAW ENFORCEMENT ON HIGH ALERT Following Threat...</td>\n",
       "      <td>No comment is expected from Barack Obama Membe...</td>\n",
       "      <td>1</td>\n",
       "    </tr>\n",
       "    <tr>\n",
       "      <th>1</th>\n",
       "      <td>NaN</td>\n",
       "      <td>Did they post their votes for Hillary already?</td>\n",
       "      <td>1</td>\n",
       "    </tr>\n",
       "    <tr>\n",
       "      <th>2</th>\n",
       "      <td>UNBELIEVABLE! OBAMA’S ATTORNEY GENERAL SAYS MO...</td>\n",
       "      <td>Now, most of the demonstrators gathered last ...</td>\n",
       "      <td>1</td>\n",
       "    </tr>\n",
       "    <tr>\n",
       "      <th>4</th>\n",
       "      <td>SATAN 2: Russia unvelis an image of its terrif...</td>\n",
       "      <td>The RS-28 Sarmat missile, dubbed Satan 2, will...</td>\n",
       "      <td>1</td>\n",
       "    </tr>\n",
       "    <tr>\n",
       "      <th>5</th>\n",
       "      <td>About Time! Christian Group Sues Amazon and SP...</td>\n",
       "      <td>All we can say on this one is it s about time ...</td>\n",
       "      <td>1</td>\n",
       "    </tr>\n",
       "    <tr>\n",
       "      <th>...</th>\n",
       "      <td>...</td>\n",
       "      <td>...</td>\n",
       "      <td>...</td>\n",
       "    </tr>\n",
       "    <tr>\n",
       "      <th>38048</th>\n",
       "      <td>Iraqi forces complete Kirkuk province takeover...</td>\n",
       "      <td>BAGHDAD/ERBIL, Iraq (Reuters) - Iraqi forces o...</td>\n",
       "      <td>0</td>\n",
       "    </tr>\n",
       "    <tr>\n",
       "      <th>28287</th>\n",
       "      <td>Army Triumphs at Last, Ending Navy’s 14-Game S...</td>\n",
       "      <td>BALTIMORE  —   Tradition at the   game calls f...</td>\n",
       "      <td>0</td>\n",
       "    </tr>\n",
       "    <tr>\n",
       "      <th>32732</th>\n",
       "      <td>Senate race rankings: Dems attack as GOP lays ...</td>\n",
       "      <td>The move would make it easier for the Trump ad...</td>\n",
       "      <td>0</td>\n",
       "    </tr>\n",
       "    <tr>\n",
       "      <th>55399</th>\n",
       "      <td>Jailed Kremlin critic calls on Russians to pro...</td>\n",
       "      <td>MOSCOW (Reuters) - Kremlin critic Alexei Naval...</td>\n",
       "      <td>0</td>\n",
       "    </tr>\n",
       "    <tr>\n",
       "      <th>49476</th>\n",
       "      <td>U.S. hopes easing limits on Cuba will boost re...</td>\n",
       "      <td>WASHINGTON (Reuters) - The United States hopes...</td>\n",
       "      <td>0</td>\n",
       "    </tr>\n",
       "  </tbody>\n",
       "</table>\n",
       "<p>100168 rows × 3 columns</p>\n",
       "</div>"
      ],
      "text/plain": [
       "                                                   title  \\\n",
       "0      LAW ENFORCEMENT ON HIGH ALERT Following Threat...   \n",
       "1                                                    NaN   \n",
       "2      UNBELIEVABLE! OBAMA’S ATTORNEY GENERAL SAYS MO...   \n",
       "4      SATAN 2: Russia unvelis an image of its terrif...   \n",
       "5      About Time! Christian Group Sues Amazon and SP...   \n",
       "...                                                  ...   \n",
       "38048  Iraqi forces complete Kirkuk province takeover...   \n",
       "28287  Army Triumphs at Last, Ending Navy’s 14-Game S...   \n",
       "32732  Senate race rankings: Dems attack as GOP lays ...   \n",
       "55399  Jailed Kremlin critic calls on Russians to pro...   \n",
       "49476  U.S. hopes easing limits on Cuba will boost re...   \n",
       "\n",
       "                                                    text  label  \n",
       "0      No comment is expected from Barack Obama Membe...      1  \n",
       "1         Did they post their votes for Hillary already?      1  \n",
       "2       Now, most of the demonstrators gathered last ...      1  \n",
       "4      The RS-28 Sarmat missile, dubbed Satan 2, will...      1  \n",
       "5      All we can say on this one is it s about time ...      1  \n",
       "...                                                  ...    ...  \n",
       "38048  BAGHDAD/ERBIL, Iraq (Reuters) - Iraqi forces o...      0  \n",
       "28287  BALTIMORE  —   Tradition at the   game calls f...      0  \n",
       "32732  The move would make it easier for the Trump ad...      0  \n",
       "55399  MOSCOW (Reuters) - Kremlin critic Alexei Naval...      0  \n",
       "49476  WASHINGTON (Reuters) - The United States hopes...      0  \n",
       "\n",
       "[100168 rows x 3 columns]"
      ]
     },
     "execution_count": 5,
     "metadata": {},
     "output_type": "execute_result"
    }
   ],
   "source": [
    "# contact both the majority class and up sample data frame\n",
    "final_data= pd.concat([df_majority, df_up_sampled])\n",
    "final_data"
   ]
  },
  {
   "cell_type": "code",
   "execution_count": 6,
   "id": "a5871ebf-c96a-45a8-a198-202751f1d48a",
   "metadata": {},
   "outputs": [],
   "source": [
    "df=final_data.dropna()"
   ]
  },
  {
   "cell_type": "code",
   "execution_count": 7,
   "id": "234c35b0-9341-4c33-a4c1-b0b636180359",
   "metadata": {},
   "outputs": [
    {
     "data": {
      "text/plain": [
       "label\n",
       "0    50084\n",
       "1    49527\n",
       "Name: count, dtype: int64"
      ]
     },
     "execution_count": 7,
     "metadata": {},
     "output_type": "execute_result"
    }
   ],
   "source": [
    "df.label.value_counts()"
   ]
  },
  {
   "cell_type": "code",
   "execution_count": 8,
   "id": "beb1e138-9672-4937-abaf-72b4e7b63976",
   "metadata": {},
   "outputs": [
    {
     "data": {
      "text/plain": [
       "title    0\n",
       "text     0\n",
       "label    0\n",
       "dtype: int64"
      ]
     },
     "execution_count": 8,
     "metadata": {},
     "output_type": "execute_result"
    }
   ],
   "source": [
    "df.isna().sum()"
   ]
  },
  {
   "cell_type": "markdown",
   "id": "0b0dcc0a-9ae2-4257-99b5-48bc3f1136c3",
   "metadata": {},
   "source": [
    "### Read the text Column "
   ]
  },
  {
   "cell_type": "code",
   "execution_count": 9,
   "id": "74929691-6bbd-4e70-91a1-64417365e9c7",
   "metadata": {},
   "outputs": [
    {
     "data": {
      "text/plain": [
       "0        No comment is expected from Barack Obama Membe...\n",
       "2         Now, most of the demonstrators gathered last ...\n",
       "4        The RS-28 Sarmat missile, dubbed Satan 2, will...\n",
       "5        All we can say on this one is it s about time ...\n",
       "6        DR. BEN CARSON TELLS THE STORY OF WHAT HAPPENE...\n",
       "                               ...                        \n",
       "38048    BAGHDAD/ERBIL, Iraq (Reuters) - Iraqi forces o...\n",
       "28287    BALTIMORE  —   Tradition at the   game calls f...\n",
       "32732    The move would make it easier for the Trump ad...\n",
       "55399    MOSCOW (Reuters) - Kremlin critic Alexei Naval...\n",
       "49476    WASHINGTON (Reuters) - The United States hopes...\n",
       "Name: text, Length: 99611, dtype: object"
      ]
     },
     "execution_count": 9,
     "metadata": {},
     "output_type": "execute_result"
    }
   ],
   "source": [
    "a=df['text']\n",
    "a"
   ]
  },
  {
   "cell_type": "markdown",
   "id": "bbc66e1e-ad65-40d6-96ff-063dcd2c0529",
   "metadata": {},
   "source": [
    "## Text Preprocessing"
   ]
  },
  {
   "cell_type": "markdown",
   "id": "cd2fd309-3303-4980-8c45-f49febd83cb9",
   "metadata": {},
   "source": [
    "### Tokenization, Remove Stop Words, Convert into lowercase"
   ]
  },
  {
   "cell_type": "code",
   "execution_count": 13,
   "id": "1384c0a0-3514-4c0b-8f41-8714a0399ee5",
   "metadata": {},
   "outputs": [
    {
     "name": "stderr",
     "output_type": "stream",
     "text": [
      "[nltk_data] Downloading package punkt_tab to\n",
      "[nltk_data]     /home/sunbeam/nltk_data...\n",
      "[nltk_data]   Package punkt_tab is already up-to-date!\n",
      "[nltk_data] Downloading package wordnet to /home/sunbeam/nltk_data...\n"
     ]
    },
    {
     "data": {
      "text/plain": [
       "True"
      ]
     },
     "execution_count": 13,
     "metadata": {},
     "output_type": "execute_result"
    }
   ],
   "source": [
    "import nltk\n",
    "nltk.download('punkt_tab')\n",
    "nltk.download('wordnet')"
   ]
  },
  {
   "cell_type": "code",
   "execution_count": 14,
   "id": "07575a1c-6f53-48d4-80e8-c83415d91bdd",
   "metadata": {},
   "outputs": [
    {
     "data": {
      "text/plain": [
       "365992"
      ]
     },
     "execution_count": 14,
     "metadata": {},
     "output_type": "execute_result"
    }
   ],
   "source": [
    "from nltk.tokenize import word_tokenize\n",
    "from nltk.corpus import stopwords\n",
    "from nltk import WordNetLemmatizer\n",
    "lemmatizer=WordNetLemmatizer()\n",
    "words_to_remove=[',','\"',\"'\",':','\\t','.','..','``',\"''\",\"(\",\")\",\"?\",\"@\",\"!\"]\n",
    "all_words=[]\n",
    "for word  in a :\n",
    "    words=word_tokenize(word.lower())\n",
    "    words1=[lemmatizer.lemmatize(i.strip()) for i in words if i.strip() not in words_to_remove]\n",
    "    all_words.extend(words1)\n",
    "all_words = list(set(all_words))\n",
    "len(all_words)"
   ]
  },
  {
   "cell_type": "code",
   "execution_count": null,
   "id": "61d4966f-11b7-4fcd-a3f2-2c3c151f13d4",
   "metadata": {},
   "outputs": [],
   "source": []
  }
 ],
 "metadata": {
  "kernelspec": {
   "display_name": "Python 3 (ipykernel)",
   "language": "python",
   "name": "python3"
  },
  "language_info": {
   "codemirror_mode": {
    "name": "ipython",
    "version": 3
   },
   "file_extension": ".py",
   "mimetype": "text/x-python",
   "name": "python",
   "nbconvert_exporter": "python",
   "pygments_lexer": "ipython3",
   "version": "3.10.12"
  }
 },
 "nbformat": 4,
 "nbformat_minor": 5
}
