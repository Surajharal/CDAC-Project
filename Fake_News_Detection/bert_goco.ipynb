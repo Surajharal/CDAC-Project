{
 "cells": [
  {
   "cell_type": "markdown",
   "id": "c8e6c67f-ba7d-41ea-8baf-d64de0abf5b0",
   "metadata": {},
   "source": [
    "### Import Liabrary"
   ]
  },
  {
   "cell_type": "code",
   "execution_count": 2,
   "id": "19623b05-ae77-48cc-b6e1-3af238fcb211",
   "metadata": {},
   "outputs": [
    {
     "name": "stderr",
     "output_type": "stream",
     "text": [
      "2024-12-25 06:10:22.248593: I tensorflow/core/util/port.cc:153] oneDNN custom operations are on. You may see slightly different numerical results due to floating-point round-off errors from different computation orders. To turn them off, set the environment variable `TF_ENABLE_ONEDNN_OPTS=0`.\n",
      "2024-12-25 06:10:22.411407: E external/local_xla/xla/stream_executor/cuda/cuda_fft.cc:477] Unable to register cuFFT factory: Attempting to register factory for plugin cuFFT when one has already been registered\n",
      "WARNING: All log messages before absl::InitializeLog() is called are written to STDERR\n",
      "E0000 00:00:1735087222.474655    3339 cuda_dnn.cc:8310] Unable to register cuDNN factory: Attempting to register factory for plugin cuDNN when one has already been registered\n",
      "E0000 00:00:1735087222.495499    3339 cuda_blas.cc:1418] Unable to register cuBLAS factory: Attempting to register factory for plugin cuBLAS when one has already been registered\n",
      "2024-12-25 06:10:22.657251: I tensorflow/core/platform/cpu_feature_guard.cc:210] This TensorFlow binary is optimized to use available CPU instructions in performance-critical operations.\n",
      "To enable the following instructions: AVX2 AVX_VNNI FMA, in other operations, rebuild TensorFlow with the appropriate compiler flags.\n"
     ]
    }
   ],
   "source": [
    "import numpy as np\n",
    "import pandas as pd\n",
    "import pycaret\n",
    "import transformers\n",
    "from transformers import AutoModel, BertTokenizerFast\n",
    "import matplotlib.pyplot as plt\n",
    "#from sklearn.metrics import plot_confusion_matrix\n",
    "from sklearn.model_selection import train_test_split\n",
    "from sklearn.metrics import classification_report\n",
    "import torch\n",
    "import torch.nn as nn\n",
    "from transformers import BertTokenizer, BertForSequenceClassification, AdamW\n",
    "from torch.utils.data import DataLoader, RandomSampler, SequentialSampler, TensorDataset"
   ]
  },
  {
   "cell_type": "markdown",
   "id": "a600d9cd-3fb7-410c-82cf-c4e5b09cb7e9",
   "metadata": {},
   "source": [
    "### Load the dataset"
   ]
  },
  {
   "cell_type": "code",
   "execution_count": 3,
   "id": "651877b8-e188-4a9b-80b3-196cddce4f57",
   "metadata": {
    "scrolled": true
   },
   "outputs": [
    {
     "data": {
      "text/html": [
       "<div>\n",
       "<style scoped>\n",
       "    .dataframe tbody tr th:only-of-type {\n",
       "        vertical-align: middle;\n",
       "    }\n",
       "\n",
       "    .dataframe tbody tr th {\n",
       "        vertical-align: top;\n",
       "    }\n",
       "\n",
       "    .dataframe thead th {\n",
       "        text-align: right;\n",
       "    }\n",
       "</style>\n",
       "<table border=\"1\" class=\"dataframe\">\n",
       "  <thead>\n",
       "    <tr style=\"text-align: right;\">\n",
       "      <th></th>\n",
       "      <th>title</th>\n",
       "      <th>text</th>\n",
       "      <th>label</th>\n",
       "    </tr>\n",
       "  </thead>\n",
       "  <tbody>\n",
       "    <tr>\n",
       "      <th>0</th>\n",
       "      <td>LAW ENFORCEMENT ON HIGH ALERT Following Threat...</td>\n",
       "      <td>No comment is expected from Barack Obama Membe...</td>\n",
       "      <td>1</td>\n",
       "    </tr>\n",
       "    <tr>\n",
       "      <th>1</th>\n",
       "      <td>NaN</td>\n",
       "      <td>Did they post their votes for Hillary already?</td>\n",
       "      <td>1</td>\n",
       "    </tr>\n",
       "    <tr>\n",
       "      <th>2</th>\n",
       "      <td>UNBELIEVABLE! OBAMA’S ATTORNEY GENERAL SAYS MO...</td>\n",
       "      <td>Now, most of the demonstrators gathered last ...</td>\n",
       "      <td>1</td>\n",
       "    </tr>\n",
       "    <tr>\n",
       "      <th>3</th>\n",
       "      <td>Bobby Jindal, raised Hindu, uses story of Chri...</td>\n",
       "      <td>A dozen politically active pastors came here f...</td>\n",
       "      <td>0</td>\n",
       "    </tr>\n",
       "    <tr>\n",
       "      <th>4</th>\n",
       "      <td>SATAN 2: Russia unvelis an image of its terrif...</td>\n",
       "      <td>The RS-28 Sarmat missile, dubbed Satan 2, will...</td>\n",
       "      <td>1</td>\n",
       "    </tr>\n",
       "    <tr>\n",
       "      <th>...</th>\n",
       "      <td>...</td>\n",
       "      <td>...</td>\n",
       "      <td>...</td>\n",
       "    </tr>\n",
       "    <tr>\n",
       "      <th>84870</th>\n",
       "      <td>'Fully committed' NATO backs new U.S. approach...</td>\n",
       "      <td>BRUSSELS (Reuters) - NATO allies on Tuesday we...</td>\n",
       "      <td>1</td>\n",
       "    </tr>\n",
       "    <tr>\n",
       "      <th>84871</th>\n",
       "      <td>LexisNexis withdrew two products from Chinese ...</td>\n",
       "      <td>LONDON (Reuters) - LexisNexis, a provider of l...</td>\n",
       "      <td>1</td>\n",
       "    </tr>\n",
       "    <tr>\n",
       "      <th>84872</th>\n",
       "      <td>Minsk cultural hub becomes haven from authorities</td>\n",
       "      <td>MINSK (Reuters) - In the shadow of disused Sov...</td>\n",
       "      <td>1</td>\n",
       "    </tr>\n",
       "    <tr>\n",
       "      <th>84873</th>\n",
       "      <td>Vatican upbeat on possibility of Pope Francis ...</td>\n",
       "      <td>MOSCOW (Reuters) - Vatican Secretary of State ...</td>\n",
       "      <td>1</td>\n",
       "    </tr>\n",
       "    <tr>\n",
       "      <th>84874</th>\n",
       "      <td>Indonesia to buy $1.14 billion worth of Russia...</td>\n",
       "      <td>JAKARTA (Reuters) - Indonesia will buy 11 Sukh...</td>\n",
       "      <td>1</td>\n",
       "    </tr>\n",
       "  </tbody>\n",
       "</table>\n",
       "<p>84875 rows × 3 columns</p>\n",
       "</div>"
      ],
      "text/plain": [
       "                                                   title  \\\n",
       "0      LAW ENFORCEMENT ON HIGH ALERT Following Threat...   \n",
       "1                                                    NaN   \n",
       "2      UNBELIEVABLE! OBAMA’S ATTORNEY GENERAL SAYS MO...   \n",
       "3      Bobby Jindal, raised Hindu, uses story of Chri...   \n",
       "4      SATAN 2: Russia unvelis an image of its terrif...   \n",
       "...                                                  ...   \n",
       "84870  'Fully committed' NATO backs new U.S. approach...   \n",
       "84871  LexisNexis withdrew two products from Chinese ...   \n",
       "84872  Minsk cultural hub becomes haven from authorities   \n",
       "84873  Vatican upbeat on possibility of Pope Francis ...   \n",
       "84874  Indonesia to buy $1.14 billion worth of Russia...   \n",
       "\n",
       "                                                    text  label  \n",
       "0      No comment is expected from Barack Obama Membe...      1  \n",
       "1         Did they post their votes for Hillary already?      1  \n",
       "2       Now, most of the demonstrators gathered last ...      1  \n",
       "3      A dozen politically active pastors came here f...      0  \n",
       "4      The RS-28 Sarmat missile, dubbed Satan 2, will...      1  \n",
       "...                                                  ...    ...  \n",
       "84870  BRUSSELS (Reuters) - NATO allies on Tuesday we...      1  \n",
       "84871  LONDON (Reuters) - LexisNexis, a provider of l...      1  \n",
       "84872  MINSK (Reuters) - In the shadow of disused Sov...      1  \n",
       "84873  MOSCOW (Reuters) - Vatican Secretary of State ...      1  \n",
       "84874  JAKARTA (Reuters) - Indonesia will buy 11 Sukh...      1  \n",
       "\n",
       "[84875 rows x 3 columns]"
      ]
     },
     "execution_count": 3,
     "metadata": {},
     "output_type": "execute_result"
    }
   ],
   "source": [
    "final_d=pd.read_csv(\"New_Dataframe.csv\")\n",
    "final_d"
   ]
  },
  {
   "cell_type": "markdown",
   "id": "c4f64821-7370-4a92-8c40-081780cfc6aa",
   "metadata": {},
   "source": [
    "### EDA"
   ]
  },
  {
   "cell_type": "code",
   "execution_count": 4,
   "id": "dfcfc05e-a5fe-41b0-b7dd-5a46bd0fedd9",
   "metadata": {},
   "outputs": [
    {
     "data": {
      "text/plain": [
       "label\n",
       "1    50084\n",
       "0    34791\n",
       "Name: count, dtype: int64"
      ]
     },
     "execution_count": 4,
     "metadata": {},
     "output_type": "execute_result"
    }
   ],
   "source": [
    "final_d.label.value_counts()"
   ]
  },
  {
   "cell_type": "code",
   "execution_count": 5,
   "id": "a7e64894-13d4-4ef6-bcd5-fefb160629df",
   "metadata": {},
   "outputs": [],
   "source": [
    "# divide the major and minor classes\n",
    "\n",
    "df_minority = final_d[final_d['label'] == 0]\n",
    "df_majority = final_d[final_d['label']== 1]"
   ]
  },
  {
   "cell_type": "code",
   "execution_count": 6,
   "id": "9729146d-3c7e-44e8-a025-5d22fa2e0f15",
   "metadata": {},
   "outputs": [
    {
     "data": {
      "text/html": [
       "<div>\n",
       "<style scoped>\n",
       "    .dataframe tbody tr th:only-of-type {\n",
       "        vertical-align: middle;\n",
       "    }\n",
       "\n",
       "    .dataframe tbody tr th {\n",
       "        vertical-align: top;\n",
       "    }\n",
       "\n",
       "    .dataframe thead th {\n",
       "        text-align: right;\n",
       "    }\n",
       "</style>\n",
       "<table border=\"1\" class=\"dataframe\">\n",
       "  <thead>\n",
       "    <tr style=\"text-align: right;\">\n",
       "      <th></th>\n",
       "      <th>title</th>\n",
       "      <th>text</th>\n",
       "      <th>label</th>\n",
       "    </tr>\n",
       "  </thead>\n",
       "  <tbody>\n",
       "    <tr>\n",
       "      <th>12847</th>\n",
       "      <td>Turkish court frees opposition journalist on b...</td>\n",
       "      <td>ISTANBUL (Reuters) - A Turkish court freed on ...</td>\n",
       "      <td>0</td>\n",
       "    </tr>\n",
       "    <tr>\n",
       "      <th>44381</th>\n",
       "      <td>Trump builds team of bosses to shake up Washin...</td>\n",
       "      <td>WASHINGTON (Reuters) - With more than 20 nomi...</td>\n",
       "      <td>0</td>\n",
       "    </tr>\n",
       "    <tr>\n",
       "      <th>37183</th>\n",
       "      <td>Twitter Shares Crash Following Quarterly Earni...</td>\n",
       "      <td>Twitter shares crashed on Thursday following t...</td>\n",
       "      <td>0</td>\n",
       "    </tr>\n",
       "    <tr>\n",
       "      <th>47568</th>\n",
       "      <td>Major U.S. Jewish Groups Applaud Trump’s Holoc...</td>\n",
       "      <td>The Algemeiner reports: Leading American Jewis...</td>\n",
       "      <td>0</td>\n",
       "    </tr>\n",
       "    <tr>\n",
       "      <th>50374</th>\n",
       "      <td>GRAPHIC VIDEO Shows White Officer Shooting Una...</td>\n",
       "      <td>North Charleston Police Officer Michael T. Sla...</td>\n",
       "      <td>0</td>\n",
       "    </tr>\n",
       "    <tr>\n",
       "      <th>...</th>\n",
       "      <td>...</td>\n",
       "      <td>...</td>\n",
       "      <td>...</td>\n",
       "    </tr>\n",
       "    <tr>\n",
       "      <th>38048</th>\n",
       "      <td>Iraqi forces complete Kirkuk province takeover...</td>\n",
       "      <td>BAGHDAD/ERBIL, Iraq (Reuters) - Iraqi forces o...</td>\n",
       "      <td>0</td>\n",
       "    </tr>\n",
       "    <tr>\n",
       "      <th>28287</th>\n",
       "      <td>Army Triumphs at Last, Ending Navy’s 14-Game S...</td>\n",
       "      <td>BALTIMORE  —   Tradition at the   game calls f...</td>\n",
       "      <td>0</td>\n",
       "    </tr>\n",
       "    <tr>\n",
       "      <th>32732</th>\n",
       "      <td>Senate race rankings: Dems attack as GOP lays ...</td>\n",
       "      <td>The move would make it easier for the Trump ad...</td>\n",
       "      <td>0</td>\n",
       "    </tr>\n",
       "    <tr>\n",
       "      <th>55399</th>\n",
       "      <td>Jailed Kremlin critic calls on Russians to pro...</td>\n",
       "      <td>MOSCOW (Reuters) - Kremlin critic Alexei Naval...</td>\n",
       "      <td>0</td>\n",
       "    </tr>\n",
       "    <tr>\n",
       "      <th>49476</th>\n",
       "      <td>U.S. hopes easing limits on Cuba will boost re...</td>\n",
       "      <td>WASHINGTON (Reuters) - The United States hopes...</td>\n",
       "      <td>0</td>\n",
       "    </tr>\n",
       "  </tbody>\n",
       "</table>\n",
       "<p>50084 rows × 3 columns</p>\n",
       "</div>"
      ],
      "text/plain": [
       "                                                   title  \\\n",
       "12847  Turkish court frees opposition journalist on b...   \n",
       "44381  Trump builds team of bosses to shake up Washin...   \n",
       "37183  Twitter Shares Crash Following Quarterly Earni...   \n",
       "47568  Major U.S. Jewish Groups Applaud Trump’s Holoc...   \n",
       "50374  GRAPHIC VIDEO Shows White Officer Shooting Una...   \n",
       "...                                                  ...   \n",
       "38048  Iraqi forces complete Kirkuk province takeover...   \n",
       "28287  Army Triumphs at Last, Ending Navy’s 14-Game S...   \n",
       "32732  Senate race rankings: Dems attack as GOP lays ...   \n",
       "55399  Jailed Kremlin critic calls on Russians to pro...   \n",
       "49476  U.S. hopes easing limits on Cuba will boost re...   \n",
       "\n",
       "                                                    text  label  \n",
       "12847  ISTANBUL (Reuters) - A Turkish court freed on ...      0  \n",
       "44381   WASHINGTON (Reuters) - With more than 20 nomi...      0  \n",
       "37183  Twitter shares crashed on Thursday following t...      0  \n",
       "47568  The Algemeiner reports: Leading American Jewis...      0  \n",
       "50374  North Charleston Police Officer Michael T. Sla...      0  \n",
       "...                                                  ...    ...  \n",
       "38048  BAGHDAD/ERBIL, Iraq (Reuters) - Iraqi forces o...      0  \n",
       "28287  BALTIMORE  —   Tradition at the   game calls f...      0  \n",
       "32732  The move would make it easier for the Trump ad...      0  \n",
       "55399  MOSCOW (Reuters) - Kremlin critic Alexei Naval...      0  \n",
       "49476  WASHINGTON (Reuters) - The United States hopes...      0  \n",
       "\n",
       "[50084 rows x 3 columns]"
      ]
     },
     "execution_count": 6,
     "metadata": {},
     "output_type": "execute_result"
    }
   ],
   "source": [
    "### Upsampling\n",
    "\n",
    "from sklearn.utils import resample\n",
    "\n",
    "df_up_sampled = resample(df_minority, n_samples=50084, random_state=123456)\n",
    "df_up_sampled"
   ]
  },
  {
   "cell_type": "code",
   "execution_count": 7,
   "id": "60be3f2d-7dd6-4d7e-9ef5-28a0c3f641fb",
   "metadata": {},
   "outputs": [
    {
     "data": {
      "text/html": [
       "<div>\n",
       "<style scoped>\n",
       "    .dataframe tbody tr th:only-of-type {\n",
       "        vertical-align: middle;\n",
       "    }\n",
       "\n",
       "    .dataframe tbody tr th {\n",
       "        vertical-align: top;\n",
       "    }\n",
       "\n",
       "    .dataframe thead th {\n",
       "        text-align: right;\n",
       "    }\n",
       "</style>\n",
       "<table border=\"1\" class=\"dataframe\">\n",
       "  <thead>\n",
       "    <tr style=\"text-align: right;\">\n",
       "      <th></th>\n",
       "      <th>title</th>\n",
       "      <th>text</th>\n",
       "      <th>label</th>\n",
       "    </tr>\n",
       "  </thead>\n",
       "  <tbody>\n",
       "    <tr>\n",
       "      <th>0</th>\n",
       "      <td>LAW ENFORCEMENT ON HIGH ALERT Following Threat...</td>\n",
       "      <td>No comment is expected from Barack Obama Membe...</td>\n",
       "      <td>1</td>\n",
       "    </tr>\n",
       "    <tr>\n",
       "      <th>1</th>\n",
       "      <td>NaN</td>\n",
       "      <td>Did they post their votes for Hillary already?</td>\n",
       "      <td>1</td>\n",
       "    </tr>\n",
       "    <tr>\n",
       "      <th>2</th>\n",
       "      <td>UNBELIEVABLE! OBAMA’S ATTORNEY GENERAL SAYS MO...</td>\n",
       "      <td>Now, most of the demonstrators gathered last ...</td>\n",
       "      <td>1</td>\n",
       "    </tr>\n",
       "    <tr>\n",
       "      <th>4</th>\n",
       "      <td>SATAN 2: Russia unvelis an image of its terrif...</td>\n",
       "      <td>The RS-28 Sarmat missile, dubbed Satan 2, will...</td>\n",
       "      <td>1</td>\n",
       "    </tr>\n",
       "    <tr>\n",
       "      <th>5</th>\n",
       "      <td>About Time! Christian Group Sues Amazon and SP...</td>\n",
       "      <td>All we can say on this one is it s about time ...</td>\n",
       "      <td>1</td>\n",
       "    </tr>\n",
       "    <tr>\n",
       "      <th>...</th>\n",
       "      <td>...</td>\n",
       "      <td>...</td>\n",
       "      <td>...</td>\n",
       "    </tr>\n",
       "    <tr>\n",
       "      <th>38048</th>\n",
       "      <td>Iraqi forces complete Kirkuk province takeover...</td>\n",
       "      <td>BAGHDAD/ERBIL, Iraq (Reuters) - Iraqi forces o...</td>\n",
       "      <td>0</td>\n",
       "    </tr>\n",
       "    <tr>\n",
       "      <th>28287</th>\n",
       "      <td>Army Triumphs at Last, Ending Navy’s 14-Game S...</td>\n",
       "      <td>BALTIMORE  —   Tradition at the   game calls f...</td>\n",
       "      <td>0</td>\n",
       "    </tr>\n",
       "    <tr>\n",
       "      <th>32732</th>\n",
       "      <td>Senate race rankings: Dems attack as GOP lays ...</td>\n",
       "      <td>The move would make it easier for the Trump ad...</td>\n",
       "      <td>0</td>\n",
       "    </tr>\n",
       "    <tr>\n",
       "      <th>55399</th>\n",
       "      <td>Jailed Kremlin critic calls on Russians to pro...</td>\n",
       "      <td>MOSCOW (Reuters) - Kremlin critic Alexei Naval...</td>\n",
       "      <td>0</td>\n",
       "    </tr>\n",
       "    <tr>\n",
       "      <th>49476</th>\n",
       "      <td>U.S. hopes easing limits on Cuba will boost re...</td>\n",
       "      <td>WASHINGTON (Reuters) - The United States hopes...</td>\n",
       "      <td>0</td>\n",
       "    </tr>\n",
       "  </tbody>\n",
       "</table>\n",
       "<p>100168 rows × 3 columns</p>\n",
       "</div>"
      ],
      "text/plain": [
       "                                                   title  \\\n",
       "0      LAW ENFORCEMENT ON HIGH ALERT Following Threat...   \n",
       "1                                                    NaN   \n",
       "2      UNBELIEVABLE! OBAMA’S ATTORNEY GENERAL SAYS MO...   \n",
       "4      SATAN 2: Russia unvelis an image of its terrif...   \n",
       "5      About Time! Christian Group Sues Amazon and SP...   \n",
       "...                                                  ...   \n",
       "38048  Iraqi forces complete Kirkuk province takeover...   \n",
       "28287  Army Triumphs at Last, Ending Navy’s 14-Game S...   \n",
       "32732  Senate race rankings: Dems attack as GOP lays ...   \n",
       "55399  Jailed Kremlin critic calls on Russians to pro...   \n",
       "49476  U.S. hopes easing limits on Cuba will boost re...   \n",
       "\n",
       "                                                    text  label  \n",
       "0      No comment is expected from Barack Obama Membe...      1  \n",
       "1         Did they post their votes for Hillary already?      1  \n",
       "2       Now, most of the demonstrators gathered last ...      1  \n",
       "4      The RS-28 Sarmat missile, dubbed Satan 2, will...      1  \n",
       "5      All we can say on this one is it s about time ...      1  \n",
       "...                                                  ...    ...  \n",
       "38048  BAGHDAD/ERBIL, Iraq (Reuters) - Iraqi forces o...      0  \n",
       "28287  BALTIMORE  —   Tradition at the   game calls f...      0  \n",
       "32732  The move would make it easier for the Trump ad...      0  \n",
       "55399  MOSCOW (Reuters) - Kremlin critic Alexei Naval...      0  \n",
       "49476  WASHINGTON (Reuters) - The United States hopes...      0  \n",
       "\n",
       "[100168 rows x 3 columns]"
      ]
     },
     "execution_count": 7,
     "metadata": {},
     "output_type": "execute_result"
    }
   ],
   "source": [
    "# contact both the majority class and up sample data frame\n",
    "final_data= pd.concat([df_majority, df_up_sampled])\n",
    "final_data"
   ]
  },
  {
   "cell_type": "code",
   "execution_count": 8,
   "id": "8c0b52dc-4ed2-4c5d-8fb0-05bee1152d35",
   "metadata": {},
   "outputs": [
    {
     "data": {
      "text/plain": [
       "title    518\n",
       "text      39\n",
       "label      0\n",
       "dtype: int64"
      ]
     },
     "execution_count": 8,
     "metadata": {},
     "output_type": "execute_result"
    }
   ],
   "source": [
    "final_data.isna().sum()"
   ]
  },
  {
   "cell_type": "code",
   "execution_count": 9,
   "id": "0f6a37c7-40cf-4efd-ae99-ae18a2f677bc",
   "metadata": {},
   "outputs": [],
   "source": [
    "data=final_data.dropna()"
   ]
  },
  {
   "cell_type": "code",
   "execution_count": 10,
   "id": "327f3331-8457-4594-9e41-5422447db101",
   "metadata": {},
   "outputs": [
    {
     "data": {
      "text/plain": [
       "title    0\n",
       "text     0\n",
       "label    0\n",
       "dtype: int64"
      ]
     },
     "execution_count": 10,
     "metadata": {},
     "output_type": "execute_result"
    }
   ],
   "source": [
    "data.isna().sum()"
   ]
  },
  {
   "cell_type": "code",
   "execution_count": 11,
   "id": "73132413-ae20-472b-b130-15d4ab8faf82",
   "metadata": {},
   "outputs": [
    {
     "data": {
      "text/plain": [
       "label\n",
       "0    50084\n",
       "1    49527\n",
       "Name: count, dtype: int64"
      ]
     },
     "execution_count": 11,
     "metadata": {},
     "output_type": "execute_result"
    }
   ],
   "source": [
    "data.label.value_counts()"
   ]
  },
  {
   "cell_type": "code",
   "execution_count": 12,
   "id": "4e72b166-6ab4-47a6-b7df-9cf91fbd54b9",
   "metadata": {},
   "outputs": [
    {
     "data": {
      "text/plain": [
       "([<matplotlib.patches.Wedge at 0x738b99d83760>,\n",
       "  <matplotlib.patches.Wedge at 0x738b99d83670>],\n",
       " [Text(-1.1999537103680562, 0.010540065176981937, 'Fake'),\n",
       "  Text(1.1999537103680562, -0.010540065176982086, 'True')],\n",
       " [Text(-0.6999729977146995, 0.006148371353239463, '49.7%'),\n",
       "  Text(0.6999729977146995, -0.006148371353239549, '50.3%')])"
      ]
     },
     "execution_count": 12,
     "metadata": {},
     "output_type": "execute_result"
    },
    {
     "data": {
      "image/png": "[encoded data removed]",
      "text/plain": [
       "<Figure size 640x480 with 1 Axes>"
      ]
     },
     "metadata": {},
     "output_type": "display_data"
    }
   ],
   "source": [
    "# Checking if our data is well balanced\n",
    "label_size = [data['label'].sum(),len(data['label'])-data['label'].sum()]\n",
    "plt.pie(label_size,explode=[0.1,0.1],colors=['firebrick','navy'],startangle=90,shadow=True,labels=['Fake','True'],autopct='%1.1f%%')"
   ]
  },
  {
   "cell_type": "markdown",
   "id": "075d61f7-4d3f-46a1-81e6-67cc159ca77e",
   "metadata": {},
   "source": [
    "### Train-Test Split"
   ]
  },
  {
   "cell_type": "code",
   "execution_count": 13,
   "id": "61b596ef-a740-46ac-b00c-9a09c57e7f7a",
   "metadata": {},
   "outputs": [],
   "source": [
    "# Train-Validation-Test set split into 70:15:15 ratio\n",
    "# Train-Temp split\n",
    "from transformers import BertTokenizer\n",
    "\n",
    "# Load the pre-trained BERT tokenizer\n",
    "tokenizer = BertTokenizer.from_pretrained('bert-base-uncased')\n",
    "\n",
    "# Define the maximum length for tokenization\n",
    "MAX_LENGTH = 100  # You can adjust this based on your needs\n",
    "train_text, temp_text, train_labels, temp_labels = train_test_split(data['title'], data['label'],\n",
    "                                                                    random_state=2018,\n",
    "                                                                    test_size=0.3,\n",
    "                                                                    )\n",
    "# Validation-Test split\n",
    "val_text, test_text, val_labels, test_labels = train_test_split(temp_text, temp_labels,\n",
    "                                                                random_state=2018,\n",
    "                                                                test_size=0.5,\n",
    "                                                                stratify=temp_labels)"
   ]
  },
  {
   "cell_type": "code",
   "execution_count": 14,
   "id": "c69d6d33-07dc-41c0-9e12-ca27e50c9ac1",
   "metadata": {},
   "outputs": [],
   "source": [
    "# Assuming you have already split your data into train_text, val_text, train_labels, val_labels\n",
    "\n",
    "# Tokenize the validation data\n",
    "tokens_val = tokenizer.batch_encode_plus(\n",
    "    val_text.tolist(),\n",
    "    max_length=MAX_LENGTH,\n",
    "    padding=True,\n",
    "    truncation=True,\n",
    "    return_tensors='pt'\n",
    ")\n",
    "\n",
    "# Prepare validation labels\n",
    "val_labels = torch.tensor(val_labels.tolist())\n",
    "\n",
    "# Convert the tokenized sequences to tensors\n",
    "val_seq = tokens_val['input_ids']\n",
    "val_mask = tokens_val['attention_mask']\n",
    "\n",
    "# Wrap them in a TensorDataset and create a DataLoader\n",
    "val_data = TensorDataset(val_seq, val_mask, val_labels)\n",
    "val_sampler = SequentialSampler(val_data)\n",
    "val_dataloader = DataLoader(val_data, sampler=val_sampler, batch_size=32)\n",
    "\n",
    "# Now you can call the evaluate function without errors"
   ]
  },
  {
   "cell_type": "markdown",
   "id": "01ff51fd-011a-48c5-9d1c-7fd46f5e106f",
   "metadata": {},
   "source": [
    "## BERT Fine-tuning"
   ]
  },
  {
   "cell_type": "markdown",
   "id": "f1bb4778-3770-4d75-8168-2d4e323e4aff",
   "metadata": {},
   "source": [
    "### Load pretrained BERT Model"
   ]
  },
  {
   "cell_type": "code",
   "execution_count": 15,
   "id": "a4e5f000-c4bf-4daa-92ee-3673618434d0",
   "metadata": {},
   "outputs": [
    {
     "data": {
      "text/plain": [
       "Text(0, 0.5, 'Number of texts')"
      ]
     },
     "execution_count": 15,
     "metadata": {},
     "output_type": "execute_result"
    },
    {
     "data": {
      "image/png": "[encoded data removed]",
      "text/plain": [
       "<Figure size 640x480 with 1 Axes>"
      ]
     },
     "metadata": {},
     "output_type": "display_data"
    }
   ],
   "source": [
    "# Plot histogram of the number of words in train data 'title'\n",
    "seq_len = [len(title.split()) for title in train_text]\n",
    "\n",
    "pd.Series(seq_len).hist(bins = 40,color='firebrick')\n",
    "plt.xlabel('Number of Words')\n",
    "plt.ylabel('Number of texts')"
   ]
  },
  {
   "cell_type": "code",
   "execution_count": 16,
   "id": "976e1f9a-f168-4cbc-a2eb-fcbd9e466fb5",
   "metadata": {},
   "outputs": [],
   "source": [
    "# Check if GPU is available and set the device accordingly\n",
    "device = torch.device(\"cuda\" if torch.cuda.is_available() else \"cpu\")\n",
    "\n",
    "# Load the pre-trained BERT tokenizer\n",
    "tokenizer = BertTokenizer.from_pretrained('bert-base-uncased')\n",
    "\n",
    "# Assuming `data` is a pandas DataFrame containing the columns `text` and `label`\n",
    "# Tokenize the text\n",
    "MAX_LENGTH = 100  # Define the maximum length of the text sequences\n",
    "\n",
    "tokens_train = tokenizer.batch_encode_plus(\n",
    "    data['text'].tolist(),\n",
    "    max_length=MAX_LENGTH,\n",
    "    padding=True,\n",
    "    truncation=True,\n",
    "    return_tensors='pt'\n",
    ")\n",
    "\n",
    "# Prepare labels\n",
    "train_labels = torch.tensor(data['label'].tolist())\n"
   ]
  },
  {
   "cell_type": "code",
   "execution_count": 17,
   "id": "a533fdb0-99ee-4e18-b620-328248bd2aa5",
   "metadata": {},
   "outputs": [],
   "source": [
    "# Convert the tokenized sequences to tensors\n",
    "train_seq = tokens_train['input_ids']\n",
    "train_mask = tokens_train['attention_mask']\n",
    "\n",
    "# Wrap them in a TensorDataset and create a DataLoader\n",
    "train_data = TensorDataset(train_seq, train_mask, train_labels)\n",
    "train_sampler = RandomSampler(train_data)\n",
    "train_dataloader = DataLoader(train_data, sampler=train_sampler, batch_size=32)\n"
   ]
  },
  {
   "cell_type": "code",
   "execution_count": 18,
   "id": "56310d27-c112-4391-967c-e546173b46f5",
   "metadata": {},
   "outputs": [],
   "source": [
    "class BERT_Arch(nn.Module):\n",
    "    def __init__(self, bert):\n",
    "        super(BERT_Arch, self).__init__()\n",
    "        self.bert = bert\n",
    "        self.dropout = nn.Dropout(0.1)  # Dropout for regularization\n",
    "        self.fc1 = nn.Linear(768, 512)  # First fully connected layer\n",
    "        self.fc2 = nn.Linear(512, 2)    # Output layer (2 classes: real or fake)\n",
    "        self.softmax = nn.LogSoftmax(dim=1)  # Softmax for classification\n",
    "    \n",
    "    def forward(self, sent_id, mask):\n",
    "        # Pass the inputs through BERT model\n",
    "        cls_hs = self.bert(sent_id, attention_mask=mask)['pooler_output']\n",
    "        x = self.fc1(cls_hs)\n",
    "        x = torch.relu(x)\n",
    "        x = self.dropout(x)\n",
    "        x = self.fc2(x)\n",
    "        x = self.softmax(x)\n",
    "        return x\n"
   ]
  },
  {
   "cell_type": "code",
   "execution_count": 19,
   "id": "4b095fd6-7c4a-44e9-9c81-f0be896907c1",
   "metadata": {},
   "outputs": [],
   "source": [
    "from transformers import BertModel, BertTokenizer\n",
    "\n",
    "# Load the pre-trained BERT model\n",
    "bert = BertModel.from_pretrained('bert-base-uncased')\n",
    "\n",
    "# Instantiate the custom architecture with the pre-trained BERT model\n",
    "model = BERT_Arch(bert)\n"
   ]
  },
  {
   "cell_type": "code",
   "execution_count": 20,
   "id": "0aec9733-4d40-4d02-879a-f8530ed0ad35",
   "metadata": {},
   "outputs": [],
   "source": [
    "# Freeze the parameters of BERT layers\n",
    "for param in model.bert.parameters():\n",
    "    param.requires_grad = False\n",
    "\n",
    "# Ensure that only the classifier layers are trainable\n",
    "for param in model.fc1.parameters():\n",
    "    param.requires_grad = True\n",
    "for param in model.fc2.parameters():\n",
    "    param.requires_grad = True\n"
   ]
  },
  {
   "cell_type": "code",
   "execution_count": 21,
   "id": "3045879c-a02a-4e53-907e-66e399e53cc8",
   "metadata": {},
   "outputs": [],
   "source": [
    "optimizer = AdamW(model.parameters(), lr=1e-5)\n",
    "cross_entropy = nn.NLLLoss()\n"
   ]
  },
  {
   "cell_type": "code",
   "execution_count": 22,
   "id": "a1f90bea-d88c-495e-9935-5cfb40ceeafc",
   "metadata": {},
   "outputs": [],
   "source": [
    "def train():\n",
    "    model.train()\n",
    "    total_loss = 0\n",
    "\n",
    "    for step, batch in enumerate(train_dataloader):\n",
    "        # Get the batch data\n",
    "        sent_id, mask, labels = batch\n",
    "        optimizer.zero_grad()  # Clear previous gradients\n",
    "        \n",
    "        # Get the model predictions\n",
    "        preds = model(sent_id, mask)\n",
    "        \n",
    "        # Compute the loss\n",
    "        loss = cross_entropy(preds, labels)\n",
    "        total_loss += loss.item()\n",
    "        \n",
    "        # Backpropagate\n",
    "        loss.backward()\n",
    "        optimizer.step()\n",
    "    \n",
    "    avg_loss = total_loss / len(train_dataloader)\n",
    "    return avg_loss\n"
   ]
  },
  {
   "cell_type": "code",
   "execution_count": 23,
   "id": "34a84f96-0b5c-42c9-84bc-c0968bd39d24",
   "metadata": {},
   "outputs": [],
   "source": [
    "def evaluate():\n",
    "    model.eval()  # Set model to evaluation mode\n",
    "    total_loss = 0\n",
    "\n",
    "    with torch.no_grad():  # Disable gradient calculation for evaluation\n",
    "        for step, batch in enumerate(val_dataloader):\n",
    "            # Move batch to the appropriate device (if using GPU, you can modify this accordingly)\n",
    "            sent_id, mask, labels = [b.to(device) for b in batch]  # Assuming 'device' is defined as \"cuda\" or \"cpu\"\n",
    "\n",
    "            # Forward pass\n",
    "            preds = model(sent_id, mask)\n",
    "            loss = cross_entropy(preds, labels)\n",
    "            total_loss += loss.item()\n",
    "\n",
    "    avg_loss = total_loss / len(val_dataloader)  # Compute average loss\n",
    "    return avg_loss\n"
   ]
  },
  {
   "cell_type": "code",
   "execution_count": 24,
   "id": "74e1b2c2-5aff-4e22-b1f3-d178b5551a8e",
   "metadata": {},
   "outputs": [
    {
     "name": "stdout",
     "output_type": "stream",
     "text": [
      "\n",
      "Epoch 1/15\n",
      "Training Loss: 0.652\n",
      "Validation Loss: 0.703\n",
      "\n",
      "Epoch 2/15\n",
      "Training Loss: 0.623\n",
      "Validation Loss: 0.684\n",
      "\n",
      "Epoch 3/15\n",
      "Training Loss: 0.606\n",
      "Validation Loss: 0.724\n",
      "\n",
      "Epoch 4/15\n",
      "Training Loss: 0.593\n",
      "Validation Loss: 0.704\n",
      "\n",
      "Epoch 5/15\n",
      "Training Loss: 0.584\n",
      "Validation Loss: 0.694\n",
      "\n",
      "Epoch 6/15\n",
      "Training Loss: 0.577\n",
      "Validation Loss: 0.685\n",
      "\n",
      "Epoch 7/15\n",
      "Training Loss: 0.571\n",
      "Validation Loss: 0.695\n",
      "\n",
      "Epoch 8/15\n",
      "Training Loss: 0.567\n",
      "Validation Loss: 0.720\n",
      "\n",
      "Epoch 9/15\n",
      "Training Loss: 0.562\n",
      "Validation Loss: 0.699\n",
      "\n",
      "Epoch 10/15\n",
      "Training Loss: 0.558\n",
      "Validation Loss: 0.704\n",
      "\n",
      "Epoch 11/15\n",
      "Training Loss: 0.556\n",
      "Validation Loss: 0.694\n",
      "\n",
      "Epoch 12/15\n",
      "Training Loss: 0.553\n",
      "Validation Loss: 0.726\n",
      "\n",
      "Epoch 13/15\n",
      "Training Loss: 0.551\n",
      "Validation Loss: 0.718\n",
      "\n",
      "Epoch 14/15\n",
      "Training Loss: 0.549\n",
      "Validation Loss: 0.730\n",
      "\n",
      "Epoch 15/15\n",
      "Training Loss: 0.546\n",
      "Validation Loss: 0.709\n"
     ]
    }
   ],
   "source": [
    "# Number of epochs\n",
    "epochs = 15\n",
    "\n",
    "best_valid_loss = float('inf')\n",
    "train_losses = []\n",
    "valid_losses = []\n",
    "\n",
    "# Training loop\n",
    "for epoch in range(epochs):\n",
    "    print(f'\\nEpoch {epoch + 1}/{epochs}')\n",
    "    \n",
    "    # Train the model\n",
    "    train_loss = train()\n",
    "    \n",
    "    # Evaluate the model\n",
    "    valid_loss = evaluate()\n",
    "\n",
    "    # Save the model with the best validation loss\n",
    "    if valid_loss < best_valid_loss:\n",
    "        best_valid_loss = valid_loss\n",
    "        torch.save(model.state_dict(), 'fake_news_model.pt')\n",
    "\n",
    "    train_losses.append(train_loss)\n",
    "    valid_losses.append(valid_loss)\n",
    "\n",
    "    print(f'Training Loss: {train_loss:.3f}')\n",
    "    print(f'Validation Loss: {valid_loss:.3f}')"
   ]
  },
  {
   "cell_type": "markdown",
   "id": "1162a130-9435-4532-a407-3baee75f32aa",
   "metadata": {},
   "source": [
    "### Model Evaluation"
   ]
  },
  {
   "cell_type": "code",
   "execution_count": 25,
   "id": "9fc6a5b0-6296-414e-83a7-f2c062773179",
   "metadata": {},
   "outputs": [
    {
     "name": "stdout",
     "output_type": "stream",
     "text": [
      "              precision    recall  f1-score   support\n",
      "\n",
      "           0       0.65      0.91      0.76     50084\n",
      "           1       0.85      0.51      0.64     49527\n",
      "\n",
      "    accuracy                           0.71     99611\n",
      "   macro avg       0.75      0.71      0.70     99611\n",
      "weighted avg       0.75      0.71      0.70     99611\n",
      "\n"
     ]
    }
   ],
   "source": [
    "from torch.utils.data import DataLoader, TensorDataset\n",
    "tokens_test = tokenizer.batch_encode_plus(\n",
    "    data['text'].tolist(),\n",
    "    max_length=MAX_LENGTH,\n",
    "    padding=True,\n",
    "    truncation=True,\n",
    "    return_tensors='pt'\n",
    ")\n",
    "test_seq = tokens_test['input_ids']\n",
    "test_mask = tokens_test['attention_mask']\n",
    "test_y = torch.tensor(data['label'].tolist())\n",
    "# Create a TensorDataset for the test data\n",
    "test_data = TensorDataset(test_seq, test_mask, test_y)\n",
    "test_dataloader = DataLoader(test_data, batch_size=16)  # Adjust batch size as needed\n",
    "\n",
    "# Evaluate on the test set\n",
    "model.eval()\n",
    "all_preds = []\n",
    "\n",
    "with torch.no_grad():\n",
    "    for batch in test_dataloader:\n",
    "        sent_id, mask, labels = batch\n",
    "        preds = model(sent_id, mask)\n",
    "        preds = preds.detach().cpu().numpy()\n",
    "        all_preds.extend(np.argmax(preds, axis=1))\n",
    "\n",
    "# Convert to numpy array\n",
    "preds = np.array(all_preds)\n",
    "\n",
    "# Print classification report\n",
    "print(classification_report(test_y, preds))"
   ]
  },
  {
   "cell_type": "code",
   "execution_count": 26,
   "id": "9305d18a-0357-44d5-b49a-b7ccd2fb6795",
   "metadata": {},
   "outputs": [
    {
     "data": {
      "text/plain": [
       "0.7137464737830159"
      ]
     },
     "execution_count": 26,
     "metadata": {},
     "output_type": "execute_result"
    }
   ],
   "source": [
    "from sklearn.metrics import accuracy_score\n",
    "accu_score=accuracy_score(test_y, preds)\n",
    "accu_score"
   ]
  },
  {
   "cell_type": "code",
   "execution_count": 27,
   "id": "b25a5202-01ab-446c-a4c8-f0b111254b5f",
   "metadata": {},
   "outputs": [
    {
     "data": {
      "text/plain": [
       "0.8530528579589368"
      ]
     },
     "execution_count": 27,
     "metadata": {},
     "output_type": "execute_result"
    }
   ],
   "source": [
    "from sklearn.metrics import precision_score\n",
    "precision_s=precision_score(test_y, preds)\n",
    "precision_s"
   ]
  },
  {
   "cell_type": "code",
   "execution_count": 28,
   "id": "33e240a2-6cb1-4fb4-abf2-fe05ee240104",
   "metadata": {},
   "outputs": [
    {
     "data": {
      "text/plain": [
       "0.5125689018111333"
      ]
     },
     "execution_count": 28,
     "metadata": {},
     "output_type": "execute_result"
    }
   ],
   "source": [
    "from sklearn.metrics import recall_score\n",
    "recall_s=recall_score(test_y, preds)\n",
    "recall_s"
   ]
  },
  {
   "cell_type": "code",
   "execution_count": 29,
   "id": "fd156c15-6ae0-4265-b31b-52744389a873",
   "metadata": {},
   "outputs": [
    {
     "data": {
      "text/plain": [
       "0.6403652599450093"
      ]
     },
     "execution_count": 29,
     "metadata": {},
     "output_type": "execute_result"
    }
   ],
   "source": [
    "from sklearn.metrics import f1_score\n",
    "f1_s=f1_score(test_y, preds)\n",
    "f1_s"
   ]
  },
  {
   "cell_type": "markdown",
   "id": "59235ac8-a540-4129-af5a-d06f62b53493",
   "metadata": {},
   "source": [
    "### testing on unseen data"
   ]
  },
  {
   "cell_type": "code",
   "execution_count": 30,
   "id": "fd12a298-9796-4a70-9f87-ca2f622afa21",
   "metadata": {},
   "outputs": [
    {
     "name": "stdout",
     "output_type": "stream",
     "text": [
      "Text: Donald Trump Sends Out Embarrassing New Year’s Eve Message; This is Disturbing\n",
      "Predicted Label: 1\n",
      "\n",
      "Text: WATCH: George W. Bush Calls Out Trump For Supporting White Supremacy\n",
      "Predicted Label: 1\n",
      "\n",
      "Text: U.S. lawmakers question businessman at 2016 Trump Tower meeting: sources\n",
      "Predicted Label: 1\n",
      "\n",
      "Text: Trump administration issues new rules on U.S. visa waivers\n",
      "Predicted Label: 0\n",
      "\n"
     ]
    }
   ],
   "source": [
    "unseen_news_text = [\"Donald Trump Sends Out Embarrassing New Year’s Eve Message; This is Disturbing\",     # Fake\n",
    "                    \"WATCH: George W. Bush Calls Out Trump For Supporting White Supremacy\",               # Fake\n",
    "                    \"U.S. lawmakers question businessman at 2016 Trump Tower meeting: sources\",           # True\n",
    "                    \"Trump administration issues new rules on U.S. visa waivers\"                          # True\n",
    "                    ]\n",
    "\n",
    "# tokenize and encode sequences in the test set\n",
    "MAX_LENGHT = 100\n",
    "tokens_unseen = tokenizer.batch_encode_plus(\n",
    "    unseen_news_text,\n",
    "    max_length = MAX_LENGHT,\n",
    "    pad_to_max_length=True,\n",
    "    truncation=True\n",
    ")\n",
    "\n",
    "unseen_seq = torch.tensor(tokens_unseen['input_ids'])\n",
    "unseen_mask = torch.tensor(tokens_unseen['attention_mask'])\n",
    "\n",
    "# Make predictions\n",
    "\n",
    "with torch.no_grad():\n",
    "\n",
    "    preds = model(unseen_seq, unseen_mask)\n",
    "\n",
    "    preds = preds.detach().cpu().numpy()\n",
    "\n",
    "preds = np.argmax(preds, axis = 1)\n",
    "\n",
    "# Print the predictions\n",
    "\n",
    "for text, pred in zip(unseen_news_text, preds):\n",
    "\n",
    "    print(f\"Text: {text}\\nPredicted Label: {pred}\\n\")"
   ]
  },
  {
   "cell_type": "markdown",
   "id": "49f6b643-acdf-4a48-96cd-a6dcbdefb59d",
   "metadata": {},
   "source": [
    "### Save the Model & Tokenizer"
   ]
  },
  {
   "cell_type": "code",
   "execution_count": 31,
   "id": "b14c99ef-eefa-4041-9a9a-2eed4ff3584a",
   "metadata": {},
   "outputs": [
    {
     "name": "stdout",
     "output_type": "stream",
     "text": [
      "Model saved successfully in 'bert_model.pkl'\n",
      "Tokenizer saved successfully in 'bert_tokenizer.pkl'\n"
     ]
    }
   ],
   "source": [
    "import pickle\n",
    "import torch\n",
    "from transformers import BertTokenizer\n",
    "\n",
    "#'model' is trained BERT model and 'tokenizer' is your BERT tokenizer\n",
    "model_name = 'fake_news_model.pt'  # Name of model file\n",
    "tokenizer_name = 'bert-base-uncased'  # Name for the tokenizer\n",
    "\n",
    "# Load the model state dict\n",
    "model.load_state_dict(torch.load(model_name))\n",
    "\n",
    "# Save the model in a pickle file\n",
    "with open('bert_model.pkl', 'wb') as model_file:\n",
    "    pickle.dump(model, model_file)\n",
    "\n",
    "# Save the tokenizer in a separate pickle file\n",
    "with open('bert_tokenizer.pkl', 'wb') as tokenizer_file:\n",
    "    pickle.dump(tokenizer, tokenizer_file)\n",
    "\n",
    "print(\"Model saved successfully in 'bert_model.pkl'\")\n",
    "print(\"Tokenizer saved successfully in 'bert_tokenizer.pkl'\")"
   ]
  },
  {
   "cell_type": "code",
   "execution_count": null,
   "id": "9aef6970-0b01-459f-811a-9a62aa512742",
   "metadata": {},
   "outputs": [],
   "source": []
  }
 ],
 "metadata": {
  "kernelspec": {
   "display_name": "Python 3 (ipykernel)",
   "language": "python",
   "name": "python3"
  },
  "language_info": {
   "codemirror_mode": {
    "name": "ipython",
    "version": 3
   },
   "file_extension": ".py",
   "mimetype": "text/x-python",
   "name": "python",
   "nbconvert_exporter": "python",
   "pygments_lexer": "ipython3",
   "version": "3.10.12"
  }
 },
 "nbformat": 4,
 "nbformat_minor": 5
}
